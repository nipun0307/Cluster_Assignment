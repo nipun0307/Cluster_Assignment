{
 "cells": [
  {
   "cell_type": "code",
   "execution_count": 2,
   "metadata": {},
   "outputs": [],
   "source": [
    "import gurobipy as grb"
   ]
  },
  {
   "cell_type": "code",
   "execution_count": 3,
   "metadata": {},
   "outputs": [],
   "source": [
    "GRB = grb.GRB\n",
    "import pandas as pd\n",
    "Expert_Skill={\n",
    "\n",
    " (0,\"AI\"):1,(0,\"DB\"):1,(0,\"ML\"):0,(0,\"Python\"):0,(0,\"IR\"):0,\n",
    " (1,\"AI\"):1,(1,\"DB\"):1,(1,\"ML\"):1,(1,\"Python\"):0,(1,\"IR\"):0,\n",
    " (2,\"AI\"):1,(2,\"DB\"):1,(2,\"ML\"):1,(2,\"Python\"):0,(2,\"IR\"):1,\n",
    " (3,\"AI\"):1,(3,\"DB\"):0,(3,\"ML\"):1,(3,\"Python\"):0,(3,\"IR\"):1,\n",
    " }\n",
    "expert_costs={0:150,1:120,2:120,3:110,4:200}\n",
    "expert_capacity={0:3,1:3,2:3,3:3,4:4}\n",
    "Project_Skills={\n",
    "1:{\"AI\":2,\"DB\":2,\"ML\":2},2:{\"ML\":1,\"IR\":1},3:{\"IR\":1,\"AI\":1} }\n",
    "Project_Profit={1:120,2:110,3:150}\n",
    "projects=[1,2,3]\n",
    "Expert_Communication_Cost=[\n",
    " [0,5,2,2],\n",
    " [5,0,5,2],\n",
    " [2,5,0,5],\n",
    " [2,2,5,0]\n",
    " ]\n",
    "Experts=[0,1,2,3]\n",
    "Skills=[ \"AI\",\"DB\",\"ML\",\"IR\",\"Python\"]"
   ]
  },
  {
   "cell_type": "code",
   "execution_count": null,
   "metadata": {},
   "outputs": [],
   "source": []
  }
 ],
 "metadata": {
  "interpreter": {
   "hash": "aee8b7b246df8f9039afb4144a1f6fd8d2ca17a180786b69acc140d282b71a49"
  },
  "kernelspec": {
   "display_name": "Python 3.9.1 64-bit",
   "language": "python",
   "name": "python3"
  },
  "language_info": {
   "codemirror_mode": {
    "name": "ipython",
    "version": 3
   },
   "file_extension": ".py",
   "mimetype": "text/x-python",
   "name": "python",
   "nbconvert_exporter": "python",
   "pygments_lexer": "ipython3",
   "version": "3.9.1"
  },
  "orig_nbformat": 4
 },
 "nbformat": 4,
 "nbformat_minor": 2
}
