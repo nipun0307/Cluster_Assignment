{
 "cells": [
  {
   "cell_type": "code",
   "execution_count": 28,
   "metadata": {},
   "outputs": [],
   "source": [
    "import gurobipy as grb"
   ]
  },
  {
   "cell_type": "code",
   "execution_count": 29,
   "metadata": {},
   "outputs": [],
   "source": [
    "import random"
   ]
  },
  {
   "cell_type": "code",
   "execution_count": 30,
   "metadata": {},
   "outputs": [],
   "source": [
    "# declare n , m here\n",
    "\n",
    "# Number of students\n",
    "n = 20\n",
    "\n",
    "# Number of projects\n",
    "m = 10"
   ]
  },
  {
   "cell_type": "code",
   "execution_count": 31,
   "metadata": {},
   "outputs": [],
   "source": [
    "# Weights in the objective function\n",
    "\n",
    "alpha = 0.5\n",
    "beta = 0.5"
   ]
  },
  {
   "cell_type": "code",
   "execution_count": 32,
   "metadata": {},
   "outputs": [],
   "source": [
    "def create_friend_groups(n,m):\n",
    "    G = []\n",
    "    for a1 in range(n):\n",
    "        temp = [0]*n\n",
    "        for a2 in range(n):\n",
    "            if(a1//5 == a2//5):\n",
    "                temp[a2] = 1\n",
    "        G.append(temp)\n",
    "    return G\n",
    "\n",
    "def friend_groups_have_same_project(n,m):\n",
    "  H = []\n",
    "  for a in range(n):\n",
    "    temp = [0]*m\n",
    "    temp[a//5] = 1\n",
    "    H.append(temp)\n",
    "  return H"
   ]
  },
  {
   "cell_type": "code",
   "execution_count": 33,
   "metadata": {},
   "outputs": [],
   "source": [
    "# Generate the social network matrix\n",
    "\n",
    "G = []\n",
    "for i in range(n):\n",
    "  randomlist = []\n",
    "  for j in range(n):\n",
    "    if i==j:\n",
    "      randomlist.append(0)\n",
    "    else:\n",
    "      randomlist.append(random.choice([-1,0,1]))\n",
    "        # randomlist.append(1)\n",
    "  G.append(randomlist)\n",
    "# G = create_friend_groups(n,m)"
   ]
  },
  {
   "cell_type": "code",
   "execution_count": 34,
   "metadata": {},
   "outputs": [],
   "source": [
    "# Generate the project preference matrix\n",
    "\n",
    "H = []\n",
    "for i in range(n):\n",
    "  randomlist = []\n",
    "  for j in range(m):\n",
    "    rand_int = random.randint(0,1)\n",
    "    randomlist.append(rand_int)\n",
    "  H.append(randomlist)\n",
    "# H = friend_groups_have_same_project(n, m)"
   ]
  },
  {
   "cell_type": "code",
   "execution_count": 35,
   "metadata": {},
   "outputs": [
    {
     "name": "stdout",
     "output_type": "stream",
     "text": [
      "[(1, 5), (1, 5), (1, 5), (1, 5), (1, 5), (1, 5), (1, 5), (1, 5), (1, 5), (1, 5)]\n"
     ]
    }
   ],
   "source": [
    "# Generate the project list input\n",
    "\n",
    "# P = []\n",
    "\n",
    "# while(1):\n",
    "#   P = []\n",
    "#   temp2 = 0\n",
    "#   for i in range(m):\n",
    "#     # t1 is the upper bound for the number of teams that can work on that project\n",
    "#     # t3 is the upper bound for the team size of any of those teams\n",
    "#     (t1,t3) = (random.randint(1,3), random.randint(3,6))\n",
    "#     temp2 += t1*t3\n",
    "#     P.append((t1,t3))\n",
    "#   if(temp2 >= n):\n",
    "#     break\n",
    "\n",
    "P = [(1,5)]*m\n",
    "\n",
    "# P = [(1,2), (1,3), (1,3)]\n",
    "\n",
    "print(P)"
   ]
  },
  {
   "cell_type": "code",
   "execution_count": 36,
   "metadata": {},
   "outputs": [],
   "source": [
    "GRB = grb.GRB\n"
   ]
  },
  {
   "cell_type": "code",
   "execution_count": 37,
   "metadata": {},
   "outputs": [],
   "source": [
    "\n",
    "model =grb.Model(\"Cluster\")"
   ]
  },
  {
   "cell_type": "code",
   "execution_count": 38,
   "metadata": {},
   "outputs": [
    {
     "name": "stdout",
     "output_type": "stream",
     "text": [
      "200\n"
     ]
    }
   ],
   "source": [
    "y_indices = []\n",
    "for i in range(m):\n",
    "    for t in range(P[i][0]):\n",
    "        for a in range(n):\n",
    "            y_indices.append((i,t,a))\n",
    "\n",
    "# print(y_indices)\n",
    "print(len(y_indices))"
   ]
  },
  {
   "cell_type": "code",
   "execution_count": 39,
   "metadata": {},
   "outputs": [
    {
     "name": "stdout",
     "output_type": "stream",
     "text": [
      "200\n"
     ]
    }
   ],
   "source": [
    "y = model.addVars(y_indices,vtype=GRB.BINARY,name=\"y\")\n",
    "print(len(y))"
   ]
  },
  {
   "cell_type": "code",
   "execution_count": 40,
   "metadata": {},
   "outputs": [
    {
     "name": "stdout",
     "output_type": "stream",
     "text": [
      "4000\n"
     ]
    }
   ],
   "source": [
    "l_indices = []\n",
    "for i in range(m):\n",
    "    for t in range(P[i][0]):\n",
    "        for a1 in range(n):\n",
    "            for a2 in range(n):\n",
    "                l_indices.append((i,t,a1,a2))\n",
    "\n",
    "# print(l_indices)\n",
    "print(len(l_indices))"
   ]
  },
  {
   "cell_type": "code",
   "execution_count": 41,
   "metadata": {},
   "outputs": [
    {
     "name": "stdout",
     "output_type": "stream",
     "text": [
      "4000\n"
     ]
    }
   ],
   "source": [
    "l = model.addVars(l_indices,vtype=GRB.BINARY,name=\"l\")\n",
    "print(len(l))"
   ]
  },
  {
   "cell_type": "code",
   "execution_count": 42,
   "metadata": {},
   "outputs": [],
   "source": [
    "# for a in range(n):\n",
    "#     temp = 0\n",
    "#     for i in range(m):\n",
    "#         for t in range(P[i][0]):\n",
    "#             temp += y[(i,t,a)]\n",
    "for a in range(n):\n",
    "    model.addConstr( 1 == sum(y[(i,t,a)] for i in range (m) for t in range (P[i][0])) )\n",
    "    "
   ]
  },
  {
   "cell_type": "code",
   "execution_count": 43,
   "metadata": {},
   "outputs": [],
   "source": [
    "for i in range(m):\n",
    "    for t in range (P[i][0]):\n",
    "        for a1 in range(n):\n",
    "            for a2 in range(n):\n",
    "                # model.addConstr(l[(i,t,a1,a2)]<=y[(i,t,a1)])\n",
    "                # model.addConstr(l[(i,t,a1,a2)]<=y[(i,t,a2)])\n",
    "                # model.addConstr(l[(i,t,a1,a2)]>= y[(i,t,a1)]+y[(i,t,a2)]-1)\n",
    "                model.addConstr(l[(i,t,a1,a2)] == y[(i,t,a1)]*y[(i,t,a2)])"
   ]
  },
  {
   "cell_type": "code",
   "execution_count": 44,
   "metadata": {},
   "outputs": [],
   "source": [
    "for i in range(m):\n",
    "    for t in range (P[i][0]):\n",
    "        model.addConstr( P[i][1] >= sum(y[(i,t,a)] for a in range(n)))"
   ]
  },
  {
   "cell_type": "code",
   "execution_count": 45,
   "metadata": {},
   "outputs": [],
   "source": [
    "model.setObjective(sum((y[(i,t,a)]*H[a][i]) for i in range(m) for t in range (P[i][0]) for a in range (n)) + \n",
    "sum((l[(i,t,a1, a2)]*G[a1][a2]) for i in range(m) for t in range (P[i][0]) for a1 in range (n) for a2 in range(n) if (a1!=a2))\n",
    ",GRB.MAXIMIZE)"
   ]
  },
  {
   "cell_type": "code",
   "execution_count": 46,
   "metadata": {},
   "outputs": [
    {
     "name": "stdout",
     "output_type": "stream",
     "text": [
      "Gurobi Optimizer version 9.1.2 build v9.1.2rc0 (mac64)\n",
      "Thread count: 4 physical cores, 8 logical processors, using up to 8 threads\n",
      "Optimize a model with 30 rows, 4200 columns and 400 nonzeros\n",
      "Model fingerprint: 0xc8c43d7e\n",
      "Model has 4000 quadratic constraints\n",
      "Variable types: 0 continuous, 4200 integer (4200 binary)\n",
      "Coefficient statistics:\n",
      "  Matrix range     [1e+00, 1e+00]\n",
      "  QMatrix range    [1e+00, 1e+00]\n",
      "  QLMatrix range   [1e+00, 1e+00]\n",
      "  Objective range  [1e+00, 1e+00]\n",
      "  Bounds range     [1e+00, 1e+00]\n",
      "  RHS range        [1e+00, 5e+00]\n",
      "Presolve removed 0 rows and 2100 columns\n",
      "Presolve time: 0.01s\n",
      "Presolved: 7630 rows, 4000 columns, 17500 nonzeros\n",
      "Variable types: 0 continuous, 4000 integer (4000 binary)\n",
      "Found heuristic solution: objective 9.0000000\n",
      "Found heuristic solution: objective 22.0000000\n",
      "\n",
      "Root relaxation: objective -8.900000e+01, 1219 iterations, 0.05 seconds\n",
      "\n",
      "    Nodes    |    Current Node    |     Objective Bounds      |     Work\n",
      " Expl Unexpl |  Obj  Depth IntInf | Incumbent    BestBd   Gap | It/Node Time\n",
      "\n",
      "     0     0   89.00000    0  308   22.00000   89.00000   305%     -    0s\n",
      "H    0     0                      37.0000000   89.00000   141%     -    0s\n",
      "     0     0   86.50000    0  308   37.00000   86.50000   134%     -    0s\n",
      "H    0     0                      38.0000000   86.50000   128%     -    0s\n",
      "H    0     0                      40.0000000   86.50000   116%     -    0s\n",
      "     0     0   72.29879    0  313   40.00000   72.29879  80.7%     -    1s\n",
      "H    0     0                      43.0000000   72.29879  68.1%     -    1s\n",
      "     0     0   72.29879    0  313   43.00000   72.29879  68.1%     -    1s\n",
      "     0     0   57.80927    0  383   43.00000   57.80927  34.4%     -    1s\n",
      "H    0     0                      47.0000000   57.80927  23.0%     -    1s\n",
      "     0     0   57.53363    0  372   47.00000   57.53363  22.4%     -    1s\n",
      "     0     0   55.86595    0  414   47.00000   55.86595  18.9%     -    2s\n",
      "     0     0   55.86595    0  403   47.00000   55.86595  18.9%     -    2s\n",
      "H    0     0                      49.0000000   55.86595  14.0%     -    2s\n",
      "H    0     2                      50.0000000   55.86595  11.7%     -    2s\n",
      "     0     2   55.86595    0  403   50.00000   55.86595  11.7%     -    2s\n",
      "H   31    27                      51.0000000   55.44957  8.72%   240    3s\n",
      "H   65    35                      52.0000000   55.44957  6.63%   261    4s\n",
      "\n",
      "Cutting planes:\n",
      "  Zero half: 120\n",
      "  RLT: 632\n",
      "  BQP: 301\n",
      "\n",
      "Explored 159 nodes (36158 simplex iterations) in 4.96 seconds\n",
      "Thread count was 8 (of 8 available processors)\n",
      "\n",
      "Solution count 10: 52 51 50 ... 22\n",
      "\n",
      "Optimal solution found (tolerance 1.00e-04)\n",
      "Best objective 5.200000000000e+01, best bound 5.200000000000e+01, gap 0.0000%\n"
     ]
    }
   ],
   "source": [
    "# model.setParam(\"NodeMethod\",2)\n",
    "# model.setParam(\"Method\",5)\n",
    "model.optimize()"
   ]
  },
  {
   "cell_type": "code",
   "execution_count": 51,
   "metadata": {},
   "outputs": [
    {
     "name": "stdout",
     "output_type": "stream",
     "text": [
      "Obj: 52.0\n"
     ]
    },
    {
     "ename": "TypeError",
     "evalue": "'NoneType' object is not iterable",
     "output_type": "error",
     "traceback": [
      "\u001b[0;31m---------------------------------------------------------------------------\u001b[0m",
      "\u001b[0;31mTypeError\u001b[0m                                 Traceback (most recent call last)",
      "\u001b[0;32m<ipython-input-51-674a0f4c53a2>\u001b[0m in \u001b[0;36m<module>\u001b[0;34m\u001b[0m\n\u001b[1;32m      7\u001b[0m \u001b[0mx_\u001b[0m\u001b[0;34m=\u001b[0m \u001b[0mmodel\u001b[0m\u001b[0;34m.\u001b[0m\u001b[0mgetVarByName\u001b[0m\u001b[0;34m(\u001b[0m\u001b[0;34m\"y\"\u001b[0m\u001b[0;34m)\u001b[0m\u001b[0;34m\u001b[0m\u001b[0;34m\u001b[0m\u001b[0m\n\u001b[1;32m      8\u001b[0m \u001b[0;34m\u001b[0m\u001b[0m\n\u001b[0;32m----> 9\u001b[0;31m \u001b[0;32mfor\u001b[0m \u001b[0mv\u001b[0m \u001b[0;32min\u001b[0m \u001b[0mx_\u001b[0m\u001b[0;34m:\u001b[0m\u001b[0;34m\u001b[0m\u001b[0;34m\u001b[0m\u001b[0m\n\u001b[0m\u001b[1;32m     10\u001b[0m     \u001b[0mprint\u001b[0m\u001b[0;34m(\u001b[0m\u001b[0mv\u001b[0m\u001b[0;34m)\u001b[0m\u001b[0;34m\u001b[0m\u001b[0;34m\u001b[0m\u001b[0m\n",
      "\u001b[0;31mTypeError\u001b[0m: 'NoneType' object is not iterable"
     ]
    }
   ],
   "source": [
    "# for v in model.getVars():\n",
    "#         print(v.varName , v.X)\n",
    "#      if v.x!=0.0:\n",
    "#             print(v.varName, v.x)\n",
    "print('Obj:', model.objVal)\n",
    "\n",
    "x_= model.getVarByName(\"y\")\n",
    "\n",
    "\n"
   ]
  }
 ],
 "metadata": {
  "interpreter": {
   "hash": "aee8b7b246df8f9039afb4144a1f6fd8d2ca17a180786b69acc140d282b71a49"
  },
  "kernelspec": {
   "display_name": "Python 3.9.1 64-bit",
   "language": "python",
   "name": "python3"
  },
  "language_info": {
   "codemirror_mode": {
    "name": "ipython",
    "version": 3
   },
   "file_extension": ".py",
   "mimetype": "text/x-python",
   "name": "python",
   "nbconvert_exporter": "python",
   "pygments_lexer": "ipython3",
   "version": "3.9.1"
  },
  "orig_nbformat": 4
 },
 "nbformat": 4,
 "nbformat_minor": 2
}
