{
 "cells": [
  {
   "cell_type": "code",
   "execution_count": 1,
   "metadata": {},
   "outputs": [],
   "source": [
    "import gurobipy as grb"
   ]
  },
  {
   "cell_type": "code",
   "execution_count": 2,
   "metadata": {},
   "outputs": [],
   "source": [
    "import random"
   ]
  },
  {
   "cell_type": "code",
   "execution_count": 3,
   "metadata": {},
   "outputs": [],
   "source": [
    "# declare n , m here\n",
    "\n",
    "# Number of students\n",
    "n = 5\n",
    "\n",
    "# Number of projects\n",
    "m = 3"
   ]
  },
  {
   "cell_type": "code",
   "execution_count": 4,
   "metadata": {},
   "outputs": [],
   "source": [
    "# Weights in the objective function\n",
    "\n",
    "alpha = 0.5\n",
    "beta = 0.5"
   ]
  },
  {
   "cell_type": "code",
   "execution_count": 5,
   "metadata": {},
   "outputs": [],
   "source": [
    "def create_friend_groups(n,m):\n",
    "    G = []\n",
    "    for a1 in range(n):\n",
    "        temp = [0]*n\n",
    "        for a2 in range(n):\n",
    "            if(a1//5 == a2//5):\n",
    "                temp[a2] = 1\n",
    "        G.append(temp)\n",
    "    return G\n",
    "\n",
    "def friend_groups_have_same_project(n,m):\n",
    "  H = []\n",
    "  for a in range(n):\n",
    "    temp = [0]*m\n",
    "    temp[a//5] = 1\n",
    "    H.append(temp)\n",
    "  return H"
   ]
  },
  {
   "cell_type": "code",
   "execution_count": 6,
   "metadata": {},
   "outputs": [],
   "source": [
    "# Generate the social network matrix\n",
    "\n",
    "G = []\n",
    "for i in range(n):\n",
    "  randomlist = []\n",
    "  for j in range(n):\n",
    "    if i==j:\n",
    "      randomlist.append(0)\n",
    "    else:\n",
    "      randomlist.append(random.choice([-1,0,1]))\n",
    "  G.append(randomlist)\n",
    "# G = create_friend_groups(n,m)"
   ]
  },
  {
   "cell_type": "code",
   "execution_count": 7,
   "metadata": {},
   "outputs": [],
   "source": [
    "# Generate the project preference matrix\n",
    "\n",
    "H = []\n",
    "for i in range(n):\n",
    "  randomlist = []\n",
    "  for j in range(m):\n",
    "    rand_int = random.randint(0,1)\n",
    "    randomlist.append(rand_int)\n",
    "  H.append(randomlist)\n",
    "# H = friend_groups_have_same_project(n, m)"
   ]
  },
  {
   "cell_type": "code",
   "execution_count": 8,
   "metadata": {},
   "outputs": [
    {
     "name": "stdout",
     "output_type": "stream",
     "text": [
      "[(1, 5), (1, 5), (1, 5)]\n"
     ]
    }
   ],
   "source": [
    "# Generate the project list input\n",
    "\n",
    "# P = []\n",
    "\n",
    "# while(1):\n",
    "#   P = []\n",
    "#   temp2 = 0\n",
    "#   for i in range(m):\n",
    "#     # t1 is the upper bound for the number of teams that can work on that project\n",
    "#     # t3 is the upper bound for the team size of any of those teams\n",
    "#     (t1,t3) = (random.randint(1,3), random.randint(3,6))\n",
    "#     temp2 += t1*t3\n",
    "#     P.append((t1,t3))\n",
    "#   if(temp2 >= n):\n",
    "#     break\n",
    "\n",
    "P = [(1,5)]*m\n",
    "\n",
    "# P = [(1,2), (1,3), (1,3)]\n",
    "\n",
    "print(P)"
   ]
  },
  {
   "cell_type": "code",
   "execution_count": 9,
   "metadata": {},
   "outputs": [],
   "source": [
    "GRB = grb.GRB\n",
    "# import pandas as pd\n",
    "# Expert_Skill={\n",
    "\n",
    "#  (0,\"AI\"):1,(0,\"DB\"):1,(0,\"ML\"):0,(0,\"Python\"):0,(0,\"IR\"):0,\n",
    "#  (1,\"AI\"):1,(1,\"DB\"):1,(1,\"ML\"):1,(1,\"Python\"):0,(1,\"IR\"):0,\n",
    "#  (2,\"AI\"):1,(2,\"DB\"):1,(2,\"ML\"):1,(2,\"Python\"):0,(2,\"IR\"):1,\n",
    "#  (3,\"AI\"):1,(3,\"DB\"):0,(3,\"ML\"):1,(3,\"Python\"):0,(3,\"IR\"):1,\n",
    "#  }\n",
    "# expert_costs={0:150,1:120,2:120,3:110,4:200}\n",
    "# expert_capacity={0:3,1:3,2:3,3:3,4:4}\n",
    "# Project_Skills={\n",
    "# 1:{\"AI\":2,\"DB\":2,\"ML\":2},2:{\"ML\":1,\"IR\":1},3:{\"IR\":1,\"AI\":1} }\n",
    "# Project_Profit={1:120,2:110,3:150}\n",
    "# projects=[1,2,3]\n",
    "# Expert_Communication_Cost=[\n",
    "#  [0,5,2,2],\n",
    "#  [5,0,5,2],\n",
    "#  [2,5,0,5],\n",
    "#  [2,2,5,0]\n",
    "#  ]\n",
    "# Experts=[0,1,2,3]\n",
    "# Skills=[ \"AI\",\"DB\",\"ML\",\"IR\",\"Python\"]"
   ]
  },
  {
   "cell_type": "code",
   "execution_count": 10,
   "metadata": {},
   "outputs": [
    {
     "name": "stdout",
     "output_type": "stream",
     "text": [
      "Academic license - for non-commercial use only - expires 2022-01-06\n",
      "Using license file /Library/gurobi912/gurobi.lic\n"
     ]
    }
   ],
   "source": [
    "\n",
    "model =grb.Model(\"Cluster Assignment\")"
   ]
  },
  {
   "cell_type": "code",
   "execution_count": 11,
   "metadata": {},
   "outputs": [
    {
     "name": "stdout",
     "output_type": "stream",
     "text": [
      "15\n"
     ]
    }
   ],
   "source": [
    "y_indices = []\n",
    "for i in range(m):\n",
    "    for t in range(P[i][0]):\n",
    "        for a in range(n):\n",
    "            y_indices.append((i,t,a))\n",
    "\n",
    "# print(y_indices)\n",
    "print(len(y_indices))"
   ]
  },
  {
   "cell_type": "code",
   "execution_count": 12,
   "metadata": {},
   "outputs": [
    {
     "name": "stdout",
     "output_type": "stream",
     "text": [
      "15\n"
     ]
    }
   ],
   "source": [
    "y = model.addVars(y_indices,vtype=GRB.BINARY,name=\"y\")\n",
    "print(len(y))"
   ]
  },
  {
   "cell_type": "code",
   "execution_count": 13,
   "metadata": {},
   "outputs": [],
   "source": [
    "# l_indices = []\n",
    "# for i in range(m):\n",
    "#     for t in range(P[i][0]):\n",
    "#         for a1 in range(n):\n",
    "#             for a2 in range(n):\n",
    "#                 l_indices.append((i,t,a1,a2))\n",
    "\n",
    "# # print(l_indices)\n",
    "# print(len(l_indices))"
   ]
  },
  {
   "cell_type": "code",
   "execution_count": 14,
   "metadata": {},
   "outputs": [],
   "source": [
    "# l = model.addVars(l_indices,vtype=GRB.BINARY,name=\"l\")\n",
    "# print(len(l))"
   ]
  },
  {
   "cell_type": "code",
   "execution_count": null,
   "metadata": {},
   "outputs": [],
   "source": []
  },
  {
   "cell_type": "code",
   "execution_count": 15,
   "metadata": {},
   "outputs": [],
   "source": [
    "# for a in range(n):\n",
    "#     temp = 0\n",
    "#     for i in range(m):\n",
    "#         for t in range(P[i][0]):\n",
    "#             temp += y[(i,t,a)]\n",
    "for a in range(n):\n",
    "    model.addConstr( 1 == sum(y[(i,t,a)] for i in range (m) for t in range (P[i][0])) )\n",
    "    #model.addConstr( 0 >= sum(y[(i,t,a)] for i in range (m) for t in range (P[i][0])) )\n",
    "    "
   ]
  },
  {
   "cell_type": "code",
   "execution_count": 16,
   "metadata": {},
   "outputs": [],
   "source": [
    "# for i in range(m):\n",
    "#     for t in range (P[i][0]):\n",
    "#         for a1 in range(n):\n",
    "#             for a2 in range(n):\n",
    "#                 model.addConstr(l[(i,t,a1,a2)]<=y[(i,t,a1)])\n",
    "#                 model.addConstr(l[(i,t,a1,a2)]<=y[(i,t,a2)])\n",
    "#                 model.addConstr(l[(i,t,a1,a2)]>= y[(i,t,a1)]+y[(i,t,a2)]-1)"
   ]
  },
  {
   "cell_type": "code",
   "execution_count": 17,
   "metadata": {},
   "outputs": [],
   "source": [
    "for i in range(m):\n",
    "    for t in range (P[i][0]):\n",
    "        model.addConstr( P[i][1] >= sum(y[(i,t,a)] for a in range(n)))"
   ]
  },
  {
   "cell_type": "code",
   "execution_count": 18,
   "metadata": {},
   "outputs": [],
   "source": [
    "model.setObjective(sum((y[(i,t,a)]*H[a][i]) for i in range(m) for t in range (P[i][0]) for a in range (n)) + \n",
    "sum(((y[(i,t,a1)]*y[(i,t,a2)])*G[a1][a2]) for i in range(m) for t in range (P[i][0]) for a1 in range (n) for a2 in range(n) if (a1!=a2))\n",
    ",GRB.MAXIMIZE)"
   ]
  },
  {
   "cell_type": "code",
   "execution_count": 19,
   "metadata": {},
   "outputs": [
    {
     "name": "stdout",
     "output_type": "stream",
     "text": [
      "Changed value of parameter Timelimit to 900.0\n",
      "   Prev: inf  Min: 0.0  Max: inf  Default: inf\n"
     ]
    }
   ],
   "source": [
    "model.setParam(\"Timelimit\",900)\n",
    "# model.setParam(\"NodeMethod\",2)\n",
    "# model.setParam(\"Method\",5)"
   ]
  },
  {
   "cell_type": "code",
   "execution_count": 20,
   "metadata": {},
   "outputs": [
    {
     "name": "stdout",
     "output_type": "stream",
     "text": [
      "Gurobi Optimizer version 9.1.2 build v9.1.2rc0 (mac64)\n",
      "Thread count: 4 physical cores, 8 logical processors, using up to 8 threads\n",
      "Optimize a model with 8 rows, 15 columns and 30 nonzeros\n",
      "Model fingerprint: 0x12c83fe2\n",
      "Model has 18 quadratic objective terms\n",
      "Variable types: 0 continuous, 15 integer (15 binary)\n",
      "Coefficient statistics:\n",
      "  Matrix range     [1e+00, 1e+00]\n",
      "  Objective range  [1e+00, 1e+00]\n",
      "  QObjective range [2e+00, 4e+00]\n",
      "  Bounds range     [1e+00, 1e+00]\n",
      "  RHS range        [1e+00, 5e+00]\n",
      "Found heuristic solution: objective 3.0000000\n",
      "Presolve removed 3 rows and 0 columns\n",
      "Presolve time: 0.01s\n",
      "Presolved: 23 rows, 33 columns, 69 nonzeros\n",
      "Variable types: 0 continuous, 33 integer (33 binary)\n",
      "\n",
      "Root relaxation: objective -8.000000e+00, 12 iterations, 0.00 seconds\n",
      "\n",
      "    Nodes    |    Current Node    |     Objective Bounds      |     Work\n",
      " Expl Unexpl |  Obj  Depth IntInf | Incumbent    BestBd   Gap | It/Node Time\n",
      "\n",
      "H    0     0                       8.0000000   19.00000   138%     -    0s\n",
      "     0     0          -    0         8.00000    8.00000  0.00%     -    0s\n",
      "\n",
      "Explored 1 nodes (18 simplex iterations) in 0.04 seconds\n",
      "Thread count was 8 (of 8 available processors)\n",
      "\n",
      "Solution count 2: 8 3 \n",
      "\n",
      "Optimal solution found (tolerance 1.00e-04)\n",
      "Best objective 8.000000000000e+00, best bound 8.000000000000e+00, gap 0.0000%\n"
     ]
    }
   ],
   "source": [
    "\n",
    "model.optimize()"
   ]
  },
  {
   "cell_type": "code",
   "execution_count": 26,
   "metadata": {},
   "outputs": [
    {
     "name": "stdout",
     "output_type": "stream",
     "text": [
      "2\n"
     ]
    }
   ],
   "source": [
    "\n",
    "print(model.status)"
   ]
  }
 ],
 "metadata": {
  "interpreter": {
   "hash": "aee8b7b246df8f9039afb4144a1f6fd8d2ca17a180786b69acc140d282b71a49"
  },
  "kernelspec": {
   "display_name": "Python 3.9.1 64-bit",
   "language": "python",
   "name": "python3"
  },
  "language_info": {
   "codemirror_mode": {
    "name": "ipython",
    "version": 3
   },
   "file_extension": ".py",
   "mimetype": "text/x-python",
   "name": "python",
   "nbconvert_exporter": "python",
   "pygments_lexer": "ipython3",
   "version": "3.9.1"
  },
  "orig_nbformat": 4
 },
 "nbformat": 4,
 "nbformat_minor": 2
}
